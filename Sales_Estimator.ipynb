{
 "cells": [
  {
   "cell_type": "code",
   "execution_count": null,
   "id": "a56fb62d",
   "metadata": {},
   "outputs": [],
   "source": [
    "reviews = int(input(\"Enter no. of reviews\"))"
   ]
  },
  {
   "cell_type": "markdown",
   "id": "c359f2e8",
   "metadata": {},
   "source": [
    "# Some listings have past month order and listing date. By seeing the no. of reviews and no of orders we can see the coorelation between the no. of reviews and orders. Reviews are 3% of the total orders on an average. "
   ]
  },
  {
   "cell_type": "code",
   "execution_count": 2,
   "id": "e5a2ddac",
   "metadata": {},
   "outputs": [],
   "source": [
    "# 100/3 is 3% but considering the repeat orders and the times when it is out of stock its 40 for low repeat\n",
    "Low_rep = 40\n",
    "Mid_rep = 45\n",
    "High_rep = 50"
   ]
  },
  {
   "cell_type": "code",
   "execution_count": 8,
   "id": "6234b70b",
   "metadata": {},
   "outputs": [
    {
     "name": "stdout",
     "output_type": "stream",
     "text": [
      "Enter the product repeat frequency : 1 = Low, 2 = Medium, 3 = High2\n"
     ]
    }
   ],
   "source": [
    "rep = int(input(\"Enter the product repeat frequency : 1 = Low, 2 = Medium, 3 = High\"))\n",
    "if  (rep==1):\n",
    "    freq = Low_rep\n",
    "elif(rep==2):\n",
    "    freq = Mid_rep\n",
    "else:\n",
    "    freq = High_rep"
   ]
  },
  {
   "cell_type": "code",
   "execution_count": 9,
   "id": "9612c0ae",
   "metadata": {},
   "outputs": [],
   "source": [
    "number_of_orders = reviews*freq"
   ]
  },
  {
   "cell_type": "code",
   "execution_count": 10,
   "id": "2e4433ca",
   "metadata": {},
   "outputs": [
    {
     "name": "stdout",
     "output_type": "stream",
     "text": [
      "Enter the price of the product275\n"
     ]
    }
   ],
   "source": [
    "price = int(input(\"Enter the price of the product\"))"
   ]
  },
  {
   "cell_type": "code",
   "execution_count": 11,
   "id": "b75211e8",
   "metadata": {},
   "outputs": [
    {
     "name": "stdout",
     "output_type": "stream",
     "text": [
      "Sales of the product till now is: 13835250\n"
     ]
    }
   ],
   "source": [
    "Sales = number_of_orders*price\n",
    "print(\"Sales of the product till now is:\",Sales)"
   ]
  }
 ],
 "metadata": {
  "kernelspec": {
   "display_name": "Python 3 (ipykernel)",
   "language": "python",
   "name": "python3"
  },
  "language_info": {
   "codemirror_mode": {
    "name": "ipython",
    "version": 3
   },
   "file_extension": ".py",
   "mimetype": "text/x-python",
   "name": "python",
   "nbconvert_exporter": "python",
   "pygments_lexer": "ipython3",
   "version": "3.11.4"
  }
 },
 "nbformat": 4,
 "nbformat_minor": 5
}
